{
 "cells": [
  {
   "cell_type": "markdown",
   "id": "fe933254",
   "metadata": {},
   "source": [
    "<h1><center>Calculating Portfolio VaR and understanding which Asset is the major contributor to the portfolio risk</center></h1>\n",
    "\n"
   ]
  },
  {
   "cell_type": "code",
   "execution_count": 2,
   "id": "261d5e6e",
   "metadata": {},
   "outputs": [],
   "source": [
    "import numpy as np\n",
    "import scipy.stats as st\n",
    "import matplotlib.pyplot as plt\n",
    "import seaborn as sns\n",
    "import pandas as pd\n",
    "import math"
   ]
  },
  {
   "cell_type": "code",
   "execution_count": 3,
   "id": "48deab70",
   "metadata": {},
   "outputs": [],
   "source": [
    "#generating random numbers for Returns of the three assets in the portfolio\n",
    "import numpy as np\n",
    "\n",
    "def draw_returns(N):\n",
    "\n",
    "    # coin flips\n",
    "    normal_year = np.random.binomial(1, 0.9, N)\n",
    "\n",
    "    # draw for normal years\n",
    "    mu = np.array([0.05, 0.05, 0.05])\n",
    "    Sigma = np.array([[0.09, 0.012, 0.021], [0.012, 0.16, 0.028], [0.021, 0.028, 0.49]])\n",
    "    normal_ret = np.random.multivariate_normal(mu, Sigma, N)\n",
    "\n",
    "    # draws for special years\n",
    "    mu = np.array([-0.1, -0.1, -0.1])\n",
    "    Sigma = np.array([[0.36, 0.24, 0.42], [0.24, 0.64, 0.56], [0.42, 0.56, 1.96]])\n",
    "    special_ret = np.random.multivariate_normal(mu, Sigma, N)\n",
    "\n",
    "    # combine\n",
    "    ret = normal_ret\n",
    "    for i in range(N):\n",
    "        if normal_year[i] == 0:\n",
    "            ret[i,:] = special_ret[i,:]\n",
    "\n",
    "    return(ret)"
   ]
  },
  {
   "cell_type": "code",
   "execution_count": 5,
   "id": "730bfe7e",
   "metadata": {},
   "outputs": [
    {
     "data": {
      "text/plain": [
       "10835.348056933195"
      ]
     },
     "execution_count": 5,
     "metadata": {},
     "output_type": "execute_result"
    }
   ],
   "source": [
    "np.random.seed(1234)\n",
    "# Generate portfolio profits (in 1000 $)\n",
    "rets = draw_returns(10000)\n",
    "def portfolio_profit(returns, holdings):\n",
    "    return(np.dot(returns, holdings))\n",
    "holdings_Q1 = np.array([2000, 6000, 2000]) # in 1000 $\n",
    "# Let W0 = 0\n",
    "gains = portfolio_profit(rets, holdings_Q1)\n",
    "def VaR_from_gains(gains, c=0.99):\n",
    "    n = len(gains)\n",
    "    sort = sorted(gains)\n",
    "    VaR = -sort[math.ceil(n * (1-c))-1]\n",
    "    return(VaR)\n",
    "VaR_Q1 = VaR_from_gains(gains)\n",
    "VaR_Q1\n",
    "# VaR is around"
   ]
  },
  {
   "cell_type": "markdown",
   "id": "8e449d71",
   "metadata": {},
   "source": [
    "## Calculating VaR of the Portfolio"
   ]
  },
  {
   "cell_type": "code",
   "execution_count": 4,
   "id": "75b557ea",
   "metadata": {
    "scrolled": true
   },
   "outputs": [
    {
     "name": "stdout",
     "output_type": "stream",
     "text": [
      "The mean return from the simulation and considering intial investment is 0.03526255052511689\n"
     ]
    }
   ],
   "source": [
    "np.random.seed(123)\n",
    "returns = draw_returns(1000000)\n",
    "\n",
    "#Fetching Returns of Asset A, B and C\n",
    "returns_A = returns[:,0]\n",
    "returns_B = returns[:,1]\n",
    "returns_C = returns[:,2]\n",
    "\n",
    "# Portfolio Return : Because VaR is the one tailed mesaure and Normal distribution is symmetric\n",
    "returns_portfolio = returns_A * 2000000 + returns_B * 6000000 + returns_C * 2000000\n",
    "mean_return = np.mean(returns_portfolio / 10000000)\n",
    "print(\"The mean return from the simulation and considering intial investment is \" + str(mean_return))"
   ]
  },
  {
   "cell_type": "code",
   "execution_count": 5,
   "id": "1e1db3a1",
   "metadata": {},
   "outputs": [
    {
     "name": "stdout",
     "output_type": "stream",
     "text": [
      "The standard deviation of the portfolio from the simulation and considering intial investment is 0.37356279735760856\n"
     ]
    }
   ],
   "source": [
    "# Portfolio Standard Deviation \n",
    "weights = np.array([0.2,0.6,0.2])\n",
    "cov_matrix = np.cov([returns_A,returns_B,returns_C])\n",
    "std_portfolio = np.sqrt(weights.T.dot(cov_matrix).dot(weights))\n",
    "print(\"The standard deviation of the portfolio from the simulation and considering intial investment is \" + str(std_portfolio))"
   ]
  },
  {
   "cell_type": "markdown",
   "id": "1e85b9f1",
   "metadata": {},
   "source": [
    "#### The VaR of the Portfolio will be calculated using the total Intital Investment ie 10 Million by multiplying the intial investment value to returns_portfolio and std_portfolio"
   ]
  },
  {
   "cell_type": "code",
   "execution_count": 6,
   "id": "2edcc106",
   "metadata": {},
   "outputs": [
    {
     "name": "stdout",
     "output_type": "stream",
     "text": [
      "The VaR of the Portfolio of 95% worst case is -5791935.716026836\n",
      "The VaR of the Portfolio of 99% worst case is -8337744.689285051\n"
     ]
    }
   ],
   "source": [
    "# VaR of the Portfolio for (c = 99%) worst case\n",
    "initial_investment = 10000000\n",
    "mean = (1+mean_return) * initial_investment\n",
    "std = std_portfolio * initial_investment\n",
    "\n",
    "F_inverse_95 = st.norm.ppf(0.05, loc = mean, scale = std)\n",
    "\n",
    "VaR_portfolio_95 = initial_investment - F_inverse_95\n",
    "print(\"The VaR of the Portfolio of 95% worst case is \" + str(-1 *VaR_portfolio_95))\n",
    "\n",
    "F_inverse_99 = st.norm.ppf(0.01, loc = mean, scale = std)\n",
    "\n",
    "VaR_portfolio_99 = (initial_investment - F_inverse_99)\n",
    "print(\"The VaR of the Portfolio of 99% worst case is \" + str(-1 *VaR_portfolio_99))"
   ]
  },
  {
   "cell_type": "markdown",
   "id": "07124912",
   "metadata": {},
   "source": [
    "### Calculating DVaR for each asset"
   ]
  },
  {
   "cell_type": "markdown",
   "id": "1f38cf26",
   "metadata": {},
   "source": [
    "### For Asset A\n",
    "DVaR for Asset A = Base VaR - VaR with increase of delta in Asset A / delta"
   ]
  },
  {
   "cell_type": "code",
   "execution_count": 7,
   "id": "d3f6b4e7",
   "metadata": {},
   "outputs": [
    {
     "name": "stdout",
     "output_type": "stream",
     "text": [
      "The VaR of the Portfolio with increase of delta in Asset A for 99% worst case is -8338073.267743992\n",
      "The DVaR for Asset A is -0.3285784589406103\n"
     ]
    }
   ],
   "source": [
    "delta = 1000\n",
    "\n",
    "# Calculating DVaR for asset A :\n",
    "returns_da = returns_A * 2001000 + returns_B * 6000000 + returns_C * 2000000\n",
    "#returns_portfolio = returns_portfolio + 1\n",
    "mean_return_da = np.mean(returns_da / 10001000)\n",
    "\n",
    "# Standard Deviation Port_da\n",
    "weights_da = np.array([2001000/10001000,6000000/10001000, 2000000/10001000])\n",
    "cov_matrix = np.cov([returns_A,returns_B,returns_C])\n",
    "std_portfolio_da = np.sqrt(weights_da.T.dot(cov_matrix).dot(weights_da))\n",
    "\n",
    "# VaR of the Portfolio for (c = 99%) worst case\n",
    "new_investment = 10001000\n",
    "mean_da = (1+mean_return_da) * new_investment\n",
    "std_da = std_portfolio_da * new_investment\n",
    "\n",
    "F_inverse_99_da = st.norm.ppf(0.01, loc = mean_da, scale = std_da)\n",
    "\n",
    "VaR_portfolio_99_da = new_investment - F_inverse_99_da\n",
    "print(\"The VaR of the Portfolio with increase of delta in Asset A for 99% worst case is \" + str(-1 *VaR_portfolio_99_da))\n",
    "\n",
    "#Dvar for Asset A = (Base Var - Var with increase of delta in Asset A) / delta\n",
    "DVaR_A = (VaR_portfolio_99 - VaR_portfolio_99_da) / delta\n",
    "print(\"The DVaR for Asset A is \" + str(DVaR_A))"
   ]
  },
  {
   "cell_type": "markdown",
   "id": "e2a294b2",
   "metadata": {},
   "source": [
    "### For Asset B\n",
    "DVaR for Asset B = Base VaR - VaR with increase of delta in Asset B / delta"
   ]
  },
  {
   "cell_type": "code",
   "execution_count": 8,
   "id": "47bf97ae",
   "metadata": {},
   "outputs": [
    {
     "name": "stdout",
     "output_type": "stream",
     "text": [
      "The VaR of the Portfolio with increase of delta in Asset B for 99% worst case is -8338642.461460425\n",
      "The DVaR for Asset B is -0.8977721753735095\n"
     ]
    }
   ],
   "source": [
    "delta = 1000\n",
    "\n",
    "# Calculating DVaR for asset B :\n",
    "returns_db = returns_A * 2000000 + returns_B * 6001000 + returns_C * 2000000\n",
    "#returns_portfolio = returns_portfolio + 1\n",
    "mean_return_db = np.mean(returns_db / 10001000)\n",
    "\n",
    "# Standard Deviation Port_da\n",
    "weights_db = np.array([2000000/10001000,6001000/10001000, 2000000/10001000])\n",
    "cov_matrix = np.cov([returns_A,returns_B,returns_C])\n",
    "std_portfolio_db = np.sqrt(weights_db.T.dot(cov_matrix).dot(weights_db))\n",
    "\n",
    "# VaR of the Portfolio for (c = 99%) worst case\n",
    "new_investment = 10001000\n",
    "mean_db = (1+mean_return_db) * new_investment\n",
    "std_db = std_portfolio_db * new_investment\n",
    "\n",
    "F_inverse_99_db = st.norm.ppf(0.01, loc = mean_db, scale = std_db)\n",
    "\n",
    "VaR_portfolio_99_db = new_investment - F_inverse_99_db\n",
    "print(\"The VaR of the Portfolio with increase of delta in Asset B for 99% worst case is \" + str(-1 *VaR_portfolio_99_db))\n",
    "\n",
    "#Dvar for Asset B = (Base Var - Var with increase of delta in Asset B) / delta\n",
    "DVaR_B = (VaR_portfolio_99 - VaR_portfolio_99_db) / delta\n",
    "print(\"The DVaR for Asset B is \" + str(DVaR_B))"
   ]
  },
  {
   "cell_type": "markdown",
   "id": "e1cf8b7b",
   "metadata": {},
   "source": [
    "### For Asset C\n",
    "DVaR for Asset C = Base VaR - VaR with increase of delta in Asset C / delta"
   ]
  },
  {
   "cell_type": "code",
   "execution_count": 9,
   "id": "bcfffa84",
   "metadata": {},
   "outputs": [
    {
     "name": "stdout",
     "output_type": "stream",
     "text": [
      "The VaR of the Portfolio with increase of delta in Asset C for 99% worst case is -8338891.860042034\n",
      "The DVaR for Asset C is -1.1471707569826395\n"
     ]
    }
   ],
   "source": [
    "delta = 1000\n",
    "\n",
    "# Calculating DVaR for asset C :\n",
    "returns_dc = returns_A * 2000000 + returns_B * 6000000 + returns_C * 2001000\n",
    "#returns_portfolio = returns_portfolio + 1\n",
    "mean_return_dc = np.mean(returns_dc / 10001000)\n",
    "\n",
    "# Standard Deviation Port_da\n",
    "weights_dc = np.array([2000000/10001000,6000000/10001000, 2001000/10001000])\n",
    "cov_matrix = np.cov([returns_A,returns_B,returns_C])\n",
    "std_portfolio_dc = np.sqrt(weights_dc.T.dot(cov_matrix).dot(weights_dc))\n",
    "\n",
    "# VaR of the Portfolio for (c = 99%) worst case\n",
    "new_investment = 10001000\n",
    "mean_dc = (1+mean_return_dc) * new_investment\n",
    "std_dc = std_portfolio_dc * new_investment\n",
    "\n",
    "F_inverse_99_dc = st.norm.ppf(0.01, loc = mean_dc, scale = std_dc)\n",
    "\n",
    "VaR_portfolio_99_dc = new_investment - F_inverse_99_dc\n",
    "print(\"The VaR of the Portfolio with increase of delta in Asset C for 99% worst case is \" + str(-1 *VaR_portfolio_99_dc))\n",
    "\n",
    "#Dvar for Asset C = (Base Var - Var with increase of delta in Asset C) / delta\n",
    "DVaR_C = (VaR_portfolio_99 - VaR_portfolio_99_dc) / delta\n",
    "print(\"The DVaR for Asset C is \" + str(DVaR_C))"
   ]
  },
  {
   "cell_type": "markdown",
   "id": "aef3935a",
   "metadata": {},
   "source": [
    "### DVaR results for Asset A, B and C"
   ]
  },
  {
   "cell_type": "code",
   "execution_count": 10,
   "id": "ab9c4eb8",
   "metadata": {
    "scrolled": true
   },
   "outputs": [
    {
     "name": "stdout",
     "output_type": "stream",
     "text": [
      "The DVaR for Asset A is -0.3285784589406103\n",
      "The DVaR for Asset B is -0.8977721753735095\n",
      "The DVaR for Asset C is -1.1471707569826395\n"
     ]
    }
   ],
   "source": [
    "print(\"The DVaR for Asset A is \" + str(DVaR_A))\n",
    "print(\"The DVaR for Asset B is \" + str(DVaR_B))\n",
    "print(\"The DVaR for Asset C is \" + str(DVaR_C))"
   ]
  },
  {
   "cell_type": "markdown",
   "id": "72caeaa3",
   "metadata": {},
   "source": [
    "### CVaR for each Asset A,B and C\n",
    "\n",
    "$C VaR_{i}$ = $x_{i}$ * $\\delta $VaR_${i}$ / $\\delta $x_${i}$"
   ]
  },
  {
   "cell_type": "code",
   "execution_count": 11,
   "id": "9a679177",
   "metadata": {},
   "outputs": [
    {
     "name": "stdout",
     "output_type": "stream",
     "text": [
      "The CVaR for Asset A is -657485.4963401612\n",
      "The CVaR for Asset B is -5387530.824416431\n",
      "The CVaR for Asset C is -2295488.6847222615\n"
     ]
    }
   ],
   "source": [
    "CVaR_A = 2001000*(DVaR_A)\n",
    "CVaR_B = 6001000*(DVaR_B)\n",
    "CVaR_C = 2001000*(DVaR_C)\n",
    "\n",
    "print(\"The CVaR for Asset A is \" + str(CVaR_A))\n",
    "print(\"The CVaR for Asset B is \" + str(CVaR_B))\n",
    "print(\"The CVaR for Asset C is \" + str(CVaR_C))"
   ]
  },
  {
   "cell_type": "code",
   "execution_count": 12,
   "id": "5a176b80",
   "metadata": {
    "scrolled": true
   },
   "outputs": [
    {
     "name": "stdout",
     "output_type": "stream",
     "text": [
      "The sum of CVaRs for the three assets is -8340505.005478853\n",
      "The VaR of the orginial portfolio with 2M in Asset A, 6M in Asset B and 2M in asset C is -8337744.689285051\n"
     ]
    }
   ],
   "source": [
    "print(\"The sum of CVaRs for the three assets is \" + str(CVaR_A + CVaR_B + CVaR_C))\n",
    "print(\"The VaR of the orginial portfolio with 2M in Asset A, 6M in Asset B and 2M in asset C is \" + str(VaR_portfolio_99 * -1))"
   ]
  },
  {
   "cell_type": "markdown",
   "id": "b1b3be75",
   "metadata": {},
   "source": [
    "#### As we see from the above output that sum of CVaRs of Assets A,B and C is very close to the VaR of the orignial Portfolio.\n",
    "\n",
    "#### Also, Component VaR is a good measure of how much each asset contributes to the overall risk of the portfolio.From the CVaR output above we see that asset responsible for the most risk of the portfolio is Asset B - and it is also because the amount invested in asset B is 6 Million which is double of the amount invested in Asset A and Asset C. "
   ]
  },
  {
   "cell_type": "markdown",
   "id": "054f3bac",
   "metadata": {},
   "source": [
    "#### Part (2)\n",
    "\n",
    "When you approximate the derivatives involved in DVaR and CVaR, vary the size of the position change you use. What do you observe when you change the value? Report a graph that shows the effect of different size of the step for the derivative. Explain what is happening.\n",
    "\n"
   ]
  },
  {
   "cell_type": "code",
   "execution_count": null,
   "id": "5a8024a0",
   "metadata": {},
   "outputs": [],
   "source": [
    "# Coming up with a range for weights\n",
    "\n",
    "allocations = []\n",
    "for al1 in range(0,100, 5):\n",
    "    for al2 in range(0,100, 5): \n",
    "        for al3 in range(0, 100, 5):\n",
    "            if al1+al2+al3 == 100:\n",
    "                allocations.append([al1, al2, al3])\n",
    "allocations = (pd.DataFrame(alloc)/100).to_numpy()"
   ]
  },
  {
   "cell_type": "code",
   "execution_count": 5,
   "id": "b67d7454",
   "metadata": {},
   "outputs": [],
   "source": [
    "# Coming up with VaRs for a range of weights\n",
    "dd= np.arange(0.1,1000,0.1)\n",
    "w_A = []\n",
    "w_B = []\n",
    "w_C = []\n",
    "for d in dd:\n",
    "    w_A.append((2000000+d)/(2000000+d+6000000+2000000))\n",
    "    w_B.append((6000000)/(2000000+d+6000000+2000000))\n",
    "    w_C.append(2000000/(2000000+d+6000000+2000000))\n",
    "    \n",
    "port_d1 = []\n",
    "for a in range(0,9999,1):\n",
    "    port_d1.append((returns_A[0:9999]*np.array(w_A[a]))+(returns_B[0:9999]*np.array(w_B[a]))+(returns_C[0:9999]*np.array(w_C[a])))"
   ]
  },
  {
   "cell_type": "code",
   "execution_count": null,
   "id": "7518542a",
   "metadata": {},
   "outputs": [],
   "source": [
    "port_ret = (returns_A[0:9999]*0.2)+(returns_B[0:9999]*0.6)+(returns_C[0:9999]*0.2)\n",
    "port_dvar = []\n",
    "for j in range(0,9999):\n",
    "    port_dvar.append(port_ret - port_d1[j])\n",
    "\n",
    "DVaR = []\n",
    "for d in dd[0:9999]:\n",
    "    for k in range(0,9999):\n",
    "        DVaR.append(np.array(port_dvar[k])/d)"
   ]
  },
  {
   "cell_type": "markdown",
   "id": "b10cc406",
   "metadata": {},
   "source": [
    "#### You change your portfolio to 3m in asset A, 5m in asset B and 2m in asset C. What are the CVaR and DVaR for asset C?\n",
    "Part (3)"
   ]
  },
  {
   "cell_type": "code",
   "execution_count": 13,
   "id": "910e0eb2",
   "metadata": {},
   "outputs": [
    {
     "name": "stdout",
     "output_type": "stream",
     "text": [
      "The VaR of the Portfolio with increase of delta in Asset C for 99% worst case is 7834732.552339262\n",
      "The DVaR for Asset C is 503.01213694578877\n"
     ]
    }
   ],
   "source": [
    "delta = 1000\n",
    "\n",
    "# Calculating DVaR for asset C :\n",
    "returns_dc1 = returns_A * 3000000 + returns_B * 5000000 + returns_C * 2001000\n",
    "#returns_portfolio = returns_portfolio + 1\n",
    "mean_return_dc1 = np.mean(returns_dc1 / 10001000)\n",
    "\n",
    "# Standard Deviation Port_da\n",
    "weights_dc1 = np.array([3000000/10001000,5000000/10001000, 2001000/10001000])\n",
    "cov_matrix = np.cov([returns_A,returns_B,returns_C])\n",
    "std_portfolio_dc1 = np.sqrt(weights_dc1.T.dot(cov_matrix).dot(weights_dc1))\n",
    "\n",
    "# VaR of the Portfolio for (c = 99%) worst case\n",
    "new_investment = 10001000\n",
    "mean_dc1 = (1+mean_return_dc1) * new_investment\n",
    "std_dc1 = std_portfolio_dc1 * new_investment\n",
    "\n",
    "F_inverse_99_dc1 = st.norm.ppf(0.01, loc = mean_dc1, scale = std_dc1)\n",
    "\n",
    "VaR_portfolio_99_dc1 = new_investment - F_inverse_99_dc1\n",
    "print(\"The VaR of the Portfolio with increase of delta in Asset C for 99% worst case is \" + str(VaR_portfolio_99_dc1))\n",
    "\n",
    "#Dvar for Asset C = (Base Var - Var with increase of delta in Asset C) / delta\n",
    "DVaR_C1 = (VaR_portfolio_99 - VaR_portfolio_99_dc1) / delta\n",
    "print(\"The DVaR for Asset C is \" + str(DVaR_C1))"
   ]
  },
  {
   "cell_type": "code",
   "execution_count": 14,
   "id": "10d2fd73",
   "metadata": {
    "scrolled": true
   },
   "outputs": [
    {
     "name": "stdout",
     "output_type": "stream",
     "text": [
      "The DVaR for Asset C is 503.01213694578877\n",
      "The CVaR for Asset C is 1006527286.0285233\n"
     ]
    }
   ],
   "source": [
    "#Dvar for Asset C = (Base Var - Var with increase of delta in Asset C) / delta\n",
    "DVaR_C1 = (VaR_portfolio_99 - VaR_portfolio_99_dc1) / delta\n",
    "print(\"The DVaR for Asset C is \" + str(DVaR_C1))\n",
    "\n",
    "\n",
    "CVaR_C1 = 2001000*(DVaR_C1)\n",
    "print(\"The CVaR for Asset C is \" + str(CVaR_C1))"
   ]
  },
  {
   "cell_type": "markdown",
   "id": "947e8f55",
   "metadata": {},
   "source": [
    "#### Conclusion - In this part (3) of the question we changed the asset allocation of Asset A and Asset B while the asset allocation of Asset C of 2 million remains unchanged. Despite this we see from the above output that DVaR and CVaR of asset C has changed. This leads to a very important conclusion that the DVaR and CVaR of the asset are not a characteristic of a particular asset but characterisitc of an asset within a portfolio and both will change from portfolio to portfolio and will also depend on the asset allocations of other assets."
   ]
  }
 ],
 "metadata": {
  "kernelspec": {
   "display_name": "Python 3",
   "language": "python",
   "name": "python3"
  },
  "language_info": {
   "codemirror_mode": {
    "name": "ipython",
    "version": 3
   },
   "file_extension": ".py",
   "mimetype": "text/x-python",
   "name": "python",
   "nbconvert_exporter": "python",
   "pygments_lexer": "ipython3",
   "version": "3.8.8"
  }
 },
 "nbformat": 4,
 "nbformat_minor": 5
}
